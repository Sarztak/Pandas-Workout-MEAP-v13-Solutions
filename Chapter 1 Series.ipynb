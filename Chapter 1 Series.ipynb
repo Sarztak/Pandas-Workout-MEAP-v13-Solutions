{
 "cells": [
  {
   "cell_type": "markdown",
   "metadata": {},
   "source": [
    "# Chapter 1: Series"
   ]
  },
  {
   "cell_type": "code",
   "execution_count": 2,
   "metadata": {},
   "outputs": [],
   "source": [
    "import numpy as np\n",
    "import pandas as pd"
   ]
  },
  {
   "cell_type": "markdown",
   "metadata": {},
   "source": [
    "1.2 Exercise 1: Test scores\n",
    "\n",
    "Create a series of 10 elements, random integers from 70-100, representing scores on a monthly exam. Set the index to be the month names, starting in September and ending in June. (If these months don’t match the school year in your location, then feel free to make them more realistic.)"
   ]
  },
  {
   "cell_type": "code",
   "execution_count": 3,
   "metadata": {},
   "outputs": [
    {
     "data": {
      "text/plain": [
       "September    77\n",
       "October      76\n",
       "November     93\n",
       "December     70\n",
       "January      71\n",
       "dtype: int64"
      ]
     },
     "execution_count": 3,
     "metadata": {},
     "output_type": "execute_result"
    }
   ],
   "source": [
    "# Create an index for the months of September to June\n",
    "# This is a simple method to create a list of month names\n",
    "index = 'Sep Oct Nov Dec Jan Feb Mar Apr May Jun'.split()\n",
    "\n",
    "# A more efficient and flexible method to create a date index using pandas\n",
    "# Here, we generate a date range starting from September 1, 2024,\n",
    "# with a frequency of 'M' (month-end) for a total of 10 periods (months).\n",
    "# The resulting dates are then formatted to display only the month names.\n",
    "index = (\n",
    "    pd.\n",
    "    date_range(start='09-01-2024', freq='M', periods=10).\n",
    "    strftime('%B')\n",
    ")\n",
    "\n",
    "# Initialize a random number generator with a fixed seed for reproducibility\n",
    "rng = np.random.default_rng(1984)\n",
    "\n",
    "# Generate an array of random integers between 70 and 100 (inclusive)\n",
    "# The size of the array is 10, corresponding to the 10 months in our index.\n",
    "data = rng.integers(70, 101, 10)\n",
    "\n",
    "# Create a pandas Series using the generated random data and the month index\n",
    "# The Series will have the month names as the index and the random integers as the values.\n",
    "s = pd.Series(data, index=index)\n",
    "\n",
    "# Display the first few entries of the Series to verify the output\n",
    "s.head()\n"
   ]
  },
  {
   "cell_type": "markdown",
   "metadata": {},
   "source": [
    "With this series, we answer the following questions:\n",
    "\n",
    "1) What is the student’s average test score for the entire year?"
   ]
  },
  {
   "cell_type": "code",
   "execution_count": 4,
   "metadata": {},
   "outputs": [
    {
     "data": {
      "text/plain": [
       "81.2"
      ]
     },
     "execution_count": 4,
     "metadata": {},
     "output_type": "execute_result"
    }
   ],
   "source": [
    "# Calculate the average value of the entire Series\n",
    "# This represents the mean score for the entire year (September to June).\n",
    "avg_year = s.mean()\n",
    "avg_year"
   ]
  },
  {
   "cell_type": "markdown",
   "metadata": {},
   "source": [
    "2) What is the student’s average test score during the first half of the year (i.e., the first five months)?"
   ]
  },
  {
   "cell_type": "code",
   "execution_count": 5,
   "metadata": {},
   "outputs": [
    {
     "data": {
      "text/plain": [
       "77.4"
      ]
     },
     "execution_count": 5,
     "metadata": {},
     "output_type": "execute_result"
    }
   ],
   "source": [
    "# Calculate the average value for the first half of the Series\n",
    "# The first half consists of the first 5 months (September to January).\n",
    "avg_first_half = s.loc['September':'January'].mean()\n",
    "avg_first_half"
   ]
  },
  {
   "cell_type": "markdown",
   "metadata": {},
   "source": [
    "3) What is the student’s average test score during the second half of the year? "
   ]
  },
  {
   "cell_type": "code",
   "execution_count": 6,
   "metadata": {},
   "outputs": [
    {
     "data": {
      "text/plain": [
       "85.0"
      ]
     },
     "execution_count": 6,
     "metadata": {},
     "output_type": "execute_result"
    }
   ],
   "source": [
    "# Calculate the average value for the second half of the Series\n",
    "# The second half consists of the last 5 months (February to June).\n",
    "avg_second_half = s.loc['February':'June'].mean()\n",
    "avg_second_half"
   ]
  },
  {
   "cell_type": "markdown",
   "metadata": {},
   "source": [
    "4) Did the student improve their performance in the second half? If so, then by how much?"
   ]
  },
  {
   "cell_type": "code",
   "execution_count": 7,
   "metadata": {},
   "outputs": [
    {
     "name": "stdout",
     "output_type": "stream",
     "text": [
      "Score improved by 7.60\n"
     ]
    }
   ],
   "source": [
    "# Calculate the difference between the average scores of the second half and the first half\n",
    "# This value indicates how much the average score has changed from the first half to the second half of the year.\n",
    "score_diff = avg_second_half - avg_first_half\n",
    "\n",
    "# Conditional statement to check if the score improved or reduced\n",
    "if score_diff > 0:\n",
    "    # If the score difference is positive, it means the average score improved\n",
    "    # The score_diff is formatted to two decimal places for better readability\n",
    "    print(f'Score improved by {score_diff:.2f}')\n",
    "else:\n",
    "    # If the score difference is zero or negative, it means the average score reduced or remained the same\n",
    "    # The score_diff is formatted to two decimal places for better readability\n",
    "    print(f'Score reduced by {score_diff:.2f}')"
   ]
  },
  {
   "cell_type": "markdown",
   "metadata": {},
   "source": [
    "1.2.3 Beyond the exercise\n",
    "\n",
    "1) In which month did this student get their highest score? "
   ]
  },
  {
   "cell_type": "code",
   "execution_count": 8,
   "metadata": {},
   "outputs": [
    {
     "name": "stdout",
     "output_type": "stream",
     "text": [
      "The month with the highest score is: February\n"
     ]
    }
   ],
   "source": [
    "# Find the index of the maximum value in the Series\n",
    "# The argmax() function returns the index of the first occurrence of the maximum value.\n",
    "idx = s.argmax()\n",
    "\n",
    "# Retrieve the month corresponding to the maximum value using the index\n",
    "# The index of the Series is accessed to get the month name associated with the maximum score.\n",
    "max_month = s.index[idx]\n",
    "\n",
    "# Print the month with the maximum score\n",
    "print(f'The month with the highest score is: {max_month}')"
   ]
  },
  {
   "cell_type": "markdown",
   "metadata": {},
   "source": [
    "2) What were this student’s five highest scores? Round the student’s scores to the nearest 10. So a score of 82 would be rounded down to 80, but a score of 87 would be rounded up to 90"
   ]
  },
  {
   "cell_type": "code",
   "execution_count": 9,
   "metadata": {},
   "outputs": [
    {
     "name": "stdout",
     "output_type": "stream",
     "text": [
      "February    90\n",
      "November    90\n",
      "March       90\n",
      "June        80\n",
      "May         80\n",
      "dtype: int64\n"
     ]
    }
   ],
   "source": [
    "# Retrieve the top 5 largest values from the Series\n",
    "# The nlargest() function returns the specified number of largest values in descending order.\n",
    "# By default, it returns the top 5 values if no argument is provided.\n",
    "largest_values = s.nlargest()\n",
    "\n",
    "# Round the largest values to the nearest ten\n",
    "# The round(-1) method rounds the values to the nearest multiple of 10.\n",
    "rounded_largest_values = largest_values.round(-1)\n",
    "\n",
    "# Print the rounded largest values\n",
    "print(rounded_largest_values)"
   ]
  },
  {
   "cell_type": "markdown",
   "metadata": {},
   "source": [
    "1.3 Exercise 2: Scaling test scores\n",
    "\n",
    "When I was in high school and college, our instructors would sometimes give tests that were extremely hard. Rather than fail most of the class, they would \"scale\" the test scores, known in some places as \"grading on a curve.\" That is: They would assume that the average test score should be 80, calculate the difference between our actual mean and 80, then add that difference to each of our scores.\n",
    "\n",
    "For this exercise, I want you to generate 10 test scores between 40 and 60, again using an index starting at September and ending with June. Find the mean of the scores, and add the difference between the mean and 80 to each of the scores."
   ]
  },
  {
   "cell_type": "code",
   "execution_count": 10,
   "metadata": {},
   "outputs": [
    {
     "name": "stdout",
     "output_type": "stream",
     "text": [
      "September    77.5\n",
      "October      76.5\n",
      "November     88.5\n",
      "December     72.5\n",
      "January      73.5\n",
      "February     88.5\n",
      "March        87.5\n",
      "April        73.5\n",
      "May          79.5\n",
      "June         82.5\n",
      "dtype: float64\n"
     ]
    }
   ],
   "source": [
    "# Initialize a random number generator with a fixed seed for reproducibility\n",
    "# The seed value (1984) ensures that the random numbers generated can be reproduced.\n",
    "rng = np.random.default_rng(1984)\n",
    "\n",
    "# Generate an array of 10 random integers between 40 and 60 (inclusive)\n",
    "# This simulates some data for the Series.\n",
    "data = rng.integers(40, 61, 10)\n",
    "\n",
    "# Create a pandas Series using the generated random data and the previously defined index\n",
    "# The index should correspond to the months (e.g., September to June).\n",
    "s = pd.Series(data, index=index)\n",
    "\n",
    "# Calculate the average score of the Series\n",
    "avg_score = s.mean()\n",
    "\n",
    "# Calculate the difference between a target score (80) and the average score\n",
    "# This value indicates how much the average score falls short of the target.\n",
    "diff = 80 - avg_score\n",
    "\n",
    "# Add the difference to each element in the Series\n",
    "# This operation adjusts each score in the Series by the calculated difference.\n",
    "adjusted_scores = s + diff\n",
    "\n",
    "# Print the adjusted scores\n",
    "print(adjusted_scores)"
   ]
  },
  {
   "cell_type": "markdown",
   "metadata": {},
   "source": [
    "1.3.3 Beyond the exercise\n",
    "\n",
    "We can say anyone who scored within 1 standard deviation of the mean got a C (below the mean) or a B (above the mean). Anyone who scored more than 1 standard deviation above the mean got an A, and anyone who got more than one standard deviation below the mean got a D. "
   ]
  },
  {
   "cell_type": "markdown",
   "metadata": {},
   "source": [
    "First we compute the grades"
   ]
  },
  {
   "cell_type": "code",
   "execution_count": 11,
   "metadata": {},
   "outputs": [
    {
     "data": {
      "text/html": [
       "<div>\n",
       "<style scoped>\n",
       "    .dataframe tbody tr th:only-of-type {\n",
       "        vertical-align: middle;\n",
       "    }\n",
       "\n",
       "    .dataframe tbody tr th {\n",
       "        vertical-align: top;\n",
       "    }\n",
       "\n",
       "    .dataframe thead th {\n",
       "        text-align: right;\n",
       "    }\n",
       "</style>\n",
       "<table border=\"1\" class=\"dataframe\">\n",
       "  <thead>\n",
       "    <tr style=\"text-align: right;\">\n",
       "      <th></th>\n",
       "      <th>score</th>\n",
       "      <th>z-score</th>\n",
       "      <th>grade</th>\n",
       "    </tr>\n",
       "  </thead>\n",
       "  <tbody>\n",
       "    <tr>\n",
       "      <th>September</th>\n",
       "      <td>45</td>\n",
       "      <td>-0.412955</td>\n",
       "      <td>C</td>\n",
       "    </tr>\n",
       "    <tr>\n",
       "      <th>October</th>\n",
       "      <td>44</td>\n",
       "      <td>-0.578137</td>\n",
       "      <td>C</td>\n",
       "    </tr>\n",
       "    <tr>\n",
       "      <th>November</th>\n",
       "      <td>56</td>\n",
       "      <td>1.404048</td>\n",
       "      <td>A</td>\n",
       "    </tr>\n",
       "    <tr>\n",
       "      <th>December</th>\n",
       "      <td>40</td>\n",
       "      <td>-1.238866</td>\n",
       "      <td>D</td>\n",
       "    </tr>\n",
       "    <tr>\n",
       "      <th>January</th>\n",
       "      <td>41</td>\n",
       "      <td>-1.073684</td>\n",
       "      <td>D</td>\n",
       "    </tr>\n",
       "    <tr>\n",
       "      <th>February</th>\n",
       "      <td>56</td>\n",
       "      <td>1.404048</td>\n",
       "      <td>A</td>\n",
       "    </tr>\n",
       "    <tr>\n",
       "      <th>March</th>\n",
       "      <td>55</td>\n",
       "      <td>1.238866</td>\n",
       "      <td>A</td>\n",
       "    </tr>\n",
       "    <tr>\n",
       "      <th>April</th>\n",
       "      <td>41</td>\n",
       "      <td>-1.073684</td>\n",
       "      <td>D</td>\n",
       "    </tr>\n",
       "    <tr>\n",
       "      <th>May</th>\n",
       "      <td>47</td>\n",
       "      <td>-0.082591</td>\n",
       "      <td>C</td>\n",
       "    </tr>\n",
       "    <tr>\n",
       "      <th>June</th>\n",
       "      <td>50</td>\n",
       "      <td>0.412955</td>\n",
       "      <td>B</td>\n",
       "    </tr>\n",
       "  </tbody>\n",
       "</table>\n",
       "</div>"
      ],
      "text/plain": [
       "           score   z-score grade\n",
       "September     45 -0.412955     C\n",
       "October       44 -0.578137     C\n",
       "November      56  1.404048     A\n",
       "December      40 -1.238866     D\n",
       "January       41 -1.073684     D\n",
       "February      56  1.404048     A\n",
       "March         55  1.238866     A\n",
       "April         41 -1.073684     D\n",
       "May           47 -0.082591     C\n",
       "June          50  0.412955     B"
      ]
     },
     "execution_count": 11,
     "metadata": {},
     "output_type": "execute_result"
    }
   ],
   "source": [
    "# Compute the z-scores for the Series\n",
    "# Z-scores indicate how many standard deviations an element is from the mean.\n",
    "# The formula for z-score is (X - mean) / std, where std is the standard deviation.\n",
    "# The parameter ddof=0 specifies that we are calculating the population standard deviation.\n",
    "# This is appropriate when we consider the entire dataset as the population.\n",
    "z_scores = (s - s.mean()) / s.std(ddof=0)\n",
    "\n",
    "# Categorize the z-scores into letter grades using pd.cut\n",
    "# The bins define the ranges for each grade:\n",
    "# - D: z-scores less than -1\n",
    "# - C: z-scores between -1 and 0\n",
    "# - B: z-scores between 0 and 1\n",
    "# - A: z-scores greater than 1\n",
    "grades = pd.cut(z_scores, bins=[-np.inf, -1, 0, 1, np.inf], labels='D C B A'.split())\n",
    "\n",
    "# Create a DataFrame to combine scores, z-scores, and grades\n",
    "# This DataFrame will have three columns: 'score', 'z-score', and 'grade'.\n",
    "student_scores = pd.DataFrame({'score': s, 'z-score': z_scores, 'grade': grades})\n",
    "\n",
    "# Display the DataFrame containing scores, z-scores, and corresponding grades\n",
    "student_scores\n"
   ]
  },
  {
   "cell_type": "markdown",
   "metadata": {},
   "source": [
    "1) During which months did our student get an A, B, C, and D?"
   ]
  },
  {
   "cell_type": "code",
   "execution_count": 12,
   "metadata": {},
   "outputs": [
    {
     "name": "stdout",
     "output_type": "stream",
     "text": [
      "Students got grade A in November, February, March\n",
      "Students got grade B in June\n",
      "Students got grade C in September, October, May\n",
      "Students got grade D in December, January, April\n"
     ]
    }
   ],
   "source": [
    "def get_months(grade):\n",
    "    # Retrieve the months corresponding to the specified grade from the DataFrame\n",
    "    # The loc method is used to filter the DataFrame for rows where the grade matches the input grade.\n",
    "    months = student_scores.loc[student_scores.grade == grade].index.values\n",
    "    \n",
    "    # Return a formatted string indicating which months students received the specified grade\n",
    "    return f\"Students got grade {grade} in {', '.join(months)}\"\n",
    "\n",
    "# Loop through each grade and print the months in which students received that grade\n",
    "for grade in 'A B C D'.split():\n",
    "    print(get_months(grade))"
   ]
  },
  {
   "cell_type": "markdown",
   "metadata": {},
   "source": [
    "2) Were there any test scores more than 2 standard deviations above or below the mean? If so, in which months? "
   ]
  },
  {
   "cell_type": "code",
   "execution_count": 13,
   "metadata": {},
   "outputs": [
    {
     "data": {
      "text/html": [
       "<div>\n",
       "<style scoped>\n",
       "    .dataframe tbody tr th:only-of-type {\n",
       "        vertical-align: middle;\n",
       "    }\n",
       "\n",
       "    .dataframe tbody tr th {\n",
       "        vertical-align: top;\n",
       "    }\n",
       "\n",
       "    .dataframe thead th {\n",
       "        text-align: right;\n",
       "    }\n",
       "</style>\n",
       "<table border=\"1\" class=\"dataframe\">\n",
       "  <thead>\n",
       "    <tr style=\"text-align: right;\">\n",
       "      <th></th>\n",
       "      <th>score</th>\n",
       "      <th>z-score</th>\n",
       "      <th>grade</th>\n",
       "    </tr>\n",
       "  </thead>\n",
       "  <tbody>\n",
       "  </tbody>\n",
       "</table>\n",
       "</div>"
      ],
      "text/plain": [
       "Empty DataFrame\n",
       "Columns: [score, z-score, grade]\n",
       "Index: []"
      ]
     },
     "execution_count": 13,
     "metadata": {},
     "output_type": "execute_result"
    }
   ],
   "source": [
    "# Filter the DataFrame to find scores with z-scores greater than 2 or less than -2\n",
    "# This identifies outliers, which are defined as scores that are more than two standard deviations away from the mean.\n",
    "outliers = student_scores.loc[(student_scores['z-score'] > 2) | (student_scores['z-score'] < -2)]\n",
    "\n",
    "# Display the outliers\n",
    "outliers"
   ]
  },
  {
   "cell_type": "markdown",
   "metadata": {},
   "source": [
    "3) How close are the mean and median to one another? "
   ]
  },
  {
   "cell_type": "code",
   "execution_count": 14,
   "metadata": {},
   "outputs": [
    {
     "data": {
      "text/plain": [
       "1.5"
      ]
     },
     "execution_count": 14,
     "metadata": {},
     "output_type": "execute_result"
    }
   ],
   "source": [
    "# Calculate the mean (average) score from the student_scores DataFrame\n",
    "mean = student_scores.score.mean()\n",
    "\n",
    "# Calculate the median score from the student_scores DataFrame\n",
    "median = student_scores.score.median()\n",
    "\n",
    "# Calculate the difference between the mean and the median\n",
    "# This value indicates the skewness of the score distribution:\n",
    "# - A positive difference suggests a right (positive) skew.\n",
    "# - A negative difference suggests a left (negative) skew.\n",
    "diff = mean - median\n",
    "\n",
    "# Display the difference\n",
    "diff"
   ]
  },
  {
   "cell_type": "markdown",
   "metadata": {},
   "source": [
    "4) What does it mean if they are close? What would it mean if they are far apart?\n",
    "\n",
    "If the mean and median are close together, it indicates that the distribution of the data symmetric, and the more further apart they are the more skewed the distribution. It may also suggest the presence of outliers in the data which affect the mean more than the median"
   ]
  },
  {
   "cell_type": "markdown",
   "metadata": {},
   "source": [
    "1.4 Exercise 3: Counting 10s digits\n",
    "\n",
    "In this exercise, I want you to generate 10 random integers in the range 0 - 100. (Remember that the np.random.randint function returns numbers that include the lower bound, but exclude the upper bound.) Create a series containing those numbers' 10s digits. Thus, if our series contains 10, 25, 32, we want the series 1, 2, 3."
   ]
  },
  {
   "cell_type": "code",
   "execution_count": 15,
   "metadata": {},
   "outputs": [
    {
     "data": {
      "text/plain": [
       "0    9\n",
       "1    2\n",
       "2    7\n",
       "3    3\n",
       "4    0\n",
       "5    1\n",
       "6    4\n",
       "7    2\n",
       "8    0\n",
       "9    0\n",
       "dtype: int32"
      ]
     },
     "execution_count": 15,
     "metadata": {},
     "output_type": "execute_result"
    }
   ],
   "source": [
    "# Set the random seed for reproducibility\n",
    "# This ensures that the random numbers generated can be reproduced in future runs.\n",
    "np.random.seed(1984)\n",
    "\n",
    "# Generate an array of 10 random integers between 0 and 100 (inclusive)\n",
    "# The randint function generates random integers in the specified range.\n",
    "data = np.random.randint(0, 101, 10)\n",
    "\n",
    "# Create a pandas Series from the generated data, dividing each value by 10\n",
    "# This effectively scales the random integers down to a range of 0 to 10.\n",
    "s = pd.Series(data // 10)\n",
    "\n",
    "# Display the Series\n",
    "s\n"
   ]
  },
  {
   "cell_type": "markdown",
   "metadata": {},
   "source": [
    "1.4.3 Beyond the exercise\n",
    "1) What if the range were from 0 - 10,000? How would that change your strategy, if at all?"
   ]
  },
  {
   "cell_type": "code",
   "execution_count": 16,
   "metadata": {},
   "outputs": [
    {
     "data": {
      "text/plain": [
       "0    4\n",
       "1    5\n",
       "2    1\n",
       "3    5\n",
       "4    7\n",
       "5    3\n",
       "6    8\n",
       "7    4\n",
       "8    2\n",
       "9    9\n",
       "dtype: int32"
      ]
     },
     "execution_count": 16,
     "metadata": {},
     "output_type": "execute_result"
    }
   ],
   "source": [
    "# the above can be generalized if we recognize that it divisor is 10 times smaller than the max range\n",
    "n_max = 1e4\n",
    "divisor = int(n_max / 10)\n",
    "\n",
    "# Set the random seed for reproducibility\n",
    "# This ensures that the random numbers generated can be reproduced in future runs.\n",
    "np.random.seed(1984)\n",
    "\n",
    "# Generate an array of 10 random integers between 0 and 100 (inclusive)\n",
    "# The randint function generates random integers in the specified range.\n",
    "data = np.random.randint(0, n_max + 1, 10)\n",
    "\n",
    "# Create a pandas Series from the generated data, dividing each value by 10\n",
    "# This effectively scales the random integers down to a range of 0 to 10.\n",
    "s = pd.Series(data // divisor)\n",
    "\n",
    "# Display the Series\n",
    "s"
   ]
  },
  {
   "cell_type": "markdown",
   "metadata": {},
   "source": [
    "2) Given a range from 0 to 10,000, what’s the smallest dtype we should use for our integers? "
   ]
  },
  {
   "cell_type": "code",
   "execution_count": 17,
   "metadata": {},
   "outputs": [],
   "source": [
    "# Calculate the number of bits required to represent a range of 10,000\n",
    "# The log2 function computes the base-2 logarithm, which helps determine how many bits are needed.\n",
    "# We need to find the smallest integer greater than log2(10000).\n",
    "bits_required = np.log2(10000)\n",
    "\n",
    "# Since we need an integer number of bits, we take the ceiling of the result\n",
    "# to ensure we have enough bits to represent all values up to 10,000.\n",
    "# We can also directly check if we need 14 bits, as 2^14 is greater than 10,000.\n",
    "if bits_required < 14:\n",
    "    bits_required = 14\n",
    "\n",
    "# Choose the appropriate data type based on the number of bits required\n",
    "# int16 can represent values from -32,768 to 32,767, which is sufficient for our range.\n",
    "data_type = np.int16\n"
   ]
  },
  {
   "cell_type": "markdown",
   "metadata": {},
   "source": [
    "3) Create a new series, with 10 floating-point values between 0 and 1,000. Find the numbers whose integer component (i.e., ignoring any fractional part) are even."
   ]
  },
  {
   "cell_type": "code",
   "execution_count": 18,
   "metadata": {},
   "outputs": [
    {
     "data": {
      "text/plain": [
       "4    424.078454\n",
       "5    646.540007\n",
       "6    438.024798\n",
       "7    892.664774\n",
       "8    964.626423\n",
       "dtype: float64"
      ]
     },
     "execution_count": 18,
     "metadata": {},
     "output_type": "execute_result"
    }
   ],
   "source": [
    "# Set the random seed for reproducibility\n",
    "# This ensures that the random numbers generated can be reproduced in future runs.\n",
    "np.random.seed(0)\n",
    "\n",
    "# Generate a pandas Series of 10 random floating-point numbers uniformly distributed between 0 and 1000 (inclusive)\n",
    "s = pd.Series(np.random.uniform(0, 1001, 10))\n",
    "\n",
    "# Filter the Series to select only the values that correspond to even integers\n",
    "# The astype(int) method converts the floating-point numbers to integers,\n",
    "# and the modulo operator % is used to check if the integer is even (i.e., remainder is 0).\n",
    "even_values = s.loc[s.astype(int) % 2 == 0]\n",
    "\n",
    "# Display the filtered Series containing only even values\n",
    "even_values\n"
   ]
  },
  {
   "cell_type": "markdown",
   "metadata": {},
   "source": [
    "1.5 Exercise 4: Descriptive statistics\n",
    "\n",
    "1) Generate a series of 100,000 floats in a normal distribution, with a mean at 0 and a standard deviation of 100.\n",
    "2) Get the descriptive statistics for this series. How close are the mean and median? (You don’t need to calculate the difference, but rather consider why they aren’t the same.) \n",
    "3) Replace the minimum value with 5 times the maximum value.Get the descriptive statistics again. \n",
    "4) Did the mean, median, and standard deviations change from their previous values? (Again, it’s enough to see the difference without calculating it.) If so, why?"
   ]
  },
  {
   "cell_type": "code",
   "execution_count": 19,
   "metadata": {},
   "outputs": [
    {
     "name": "stdout",
     "output_type": "stream",
     "text": [
      "Mean: -0.0510804027746863\n",
      "Median: -0.08262623080339143\n",
      "Descriptive Statistics:\n",
      " count    100000.000000\n",
      "mean         -0.051080\n",
      "std         100.232729\n",
      "min        -430.169171\n",
      "25%         -67.653133\n",
      "50%          -0.082626\n",
      "75%          67.118507\n",
      "max         396.458519\n",
      "dtype: float64\n"
     ]
    }
   ],
   "source": [
    "# Set the random seed for reproducibility\n",
    "np.random.seed(1984)\n",
    "\n",
    "# Generate a sample of 100,000 data points from a normal distribution\n",
    "# with a mean of 0 and a standard deviation of 100\n",
    "data = np.random.normal(loc=0, scale=100, size=100_000)\n",
    "\n",
    "# Create a Pandas Series from the generated data\n",
    "s = pd.Series(data)\n",
    "\n",
    "# Calculate the mean of the data\n",
    "mean = s.mean()\n",
    "\n",
    "# Calculate the median of the data\n",
    "median = s.median()\n",
    "\n",
    "# Display descriptive statistics of the Series\n",
    "description = s.describe()\n",
    "\n",
    "# Print the results\n",
    "print(\"Mean:\", mean)\n",
    "print(\"Median:\", median)\n",
    "print(\"Descriptive Statistics:\\n\", description)\n",
    "\n",
    "# Note: The mean and median may not be the same because the sample\n",
    "# is close to normal but not perfectly normal. Therefore, there may\n",
    "# be some discrepancies due to the inherent variability in the data.\n"
   ]
  },
  {
   "cell_type": "code",
   "execution_count": 20,
   "metadata": {},
   "outputs": [
    {
     "name": "stdout",
     "output_type": "stream",
     "text": [
      "Original Mean: -0.0510804027746863\n",
      "Original Median: -0.08262623080339143\n",
      "Original Descriptive Statistics:\n",
      " count    100000.000000\n",
      "mean         -0.051080\n",
      "std         100.232729\n",
      "min        -430.169171\n",
      "25%         -67.653133\n",
      "50%          -0.082626\n",
      "75%          67.118507\n",
      "max         396.458519\n",
      "dtype: float64\n",
      "\n",
      "Modified Descriptive Statistics:\n",
      " count    100000.000000\n",
      "mean         -0.026956\n",
      "std         100.419353\n",
      "min        -429.211074\n",
      "25%         -67.651713\n",
      "50%          -0.081459\n",
      "75%          67.120860\n",
      "max        1982.292596\n",
      "dtype: float64\n"
     ]
    }
   ],
   "source": [
    "# Calculate the mean and median of the original data\n",
    "mean_original = s.mean()\n",
    "median_original = s.median()\n",
    "\n",
    "# Display descriptive statistics of the original Series\n",
    "description_original = s.describe()\n",
    "\n",
    "# Find the indices of the minimum and maximum values in the Series\n",
    "min_idx = s.argmin()\n",
    "max_idx = s.argmax()\n",
    "\n",
    "# Modify the minimum value by setting it to five times the maximum value\n",
    "s.iloc[min_idx] = 5 * s.iloc[max_idx]\n",
    "\n",
    "# Check the descriptive statistics again after modification\n",
    "description_modified = s.describe()\n",
    "\n",
    "# Print the results before and after modification\n",
    "print(\"Original Mean:\", mean_original)\n",
    "print(\"Original Median:\", median_original)\n",
    "print(\"Original Descriptive Statistics:\\n\", description_original)\n",
    "print(\"\\nModified Descriptive Statistics:\\n\", description_modified)\n",
    "\n",
    "# Note: After modifying the minimum value, we can observe that the median\n",
    "# is not greatly affected, but the mean and standard deviation are significantly\n",
    "# impacted. This is because the mean is sensitive to extreme values, leading\n",
    "# to an increase in both the mean and standard deviation.\n"
   ]
  },
  {
   "cell_type": "markdown",
   "metadata": {},
   "source": [
    "1.5.3 Beyond the exercise\n",
    "\n",
    "1) Demonstrate that 68%, 95%, and 99.7% of the values in s are indeed within 1, 2, and 3 standard distributions of the mean. \n"
   ]
  },
  {
   "cell_type": "code",
   "execution_count": 21,
   "metadata": {},
   "outputs": [
    {
     "name": "stdout",
     "output_type": "stream",
     "text": [
      "The values within 1 standard deviation constitute 68.42% of the values\n",
      "The values within 2 standard deviation constitute 95.41% of the values\n",
      "The values within 3 standard deviation constitute 99.73% of the values\n"
     ]
    }
   ],
   "source": [
    "# Set the random seed for reproducibility\n",
    "np.random.seed(1984)\n",
    "\n",
    "# Function to check the proportion of values within a specified number of standard deviations from the mean\n",
    "def checkLimits(ser, multiplier=1):\n",
    "    \"\"\"\n",
    "    Calculate the proportion of values within a specified number of standard deviations from the mean.\n",
    "\n",
    "    Parameters:\n",
    "    ser (pd.Series): The input Pandas Series to analyze.\n",
    "    multiplier (int or float): The number of standard deviations to consider.\n",
    "\n",
    "    Returns:\n",
    "    float: The proportion of values within the specified limits.\n",
    "    \"\"\"\n",
    "    mean = ser.mean()  # Calculate the mean of the series\n",
    "    std = ser.std()    # Calculate the standard deviation of the series\n",
    "    \n",
    "    # Count the number of values within the specified range\n",
    "    count = ((ser >= mean - multiplier * std) & (ser <= mean + multiplier * std)).sum()\n",
    "    \n",
    "    # Return the proportion of values within the specified limits\n",
    "    return count / len(ser)\n",
    "\n",
    "# Check if values within 1, 2, and 3 standard deviations constitute the expected proportions\n",
    "for i in range(1, 4):   \n",
    "    proportion = checkLimits(s, i) * 100  # Calculate the percentage\n",
    "    print(f'The values within {i} standard deviation constitute {proportion:.2f}% of the values')\n"
   ]
  },
  {
   "cell_type": "markdown",
   "metadata": {},
   "source": [
    "2) Calculate the mean of numbers greater than s.mean(). Then calculate the mean of numbers less than s.mean(). Is the average of these two numbers the same as s.mean()?"
   ]
  },
  {
   "cell_type": "code",
   "execution_count": 22,
   "metadata": {},
   "outputs": [
    {
     "name": "stdout",
     "output_type": "stream",
     "text": [
      "Average of lower and upper means: 0.008196652647868063\n",
      "Overall mean: -0.02695578510417541\n"
     ]
    }
   ],
   "source": [
    "# Set the random seed for reproducibility\n",
    "np.random.seed(1984)\n",
    "\n",
    "# Calculate the mean of the entire series\n",
    "overall_mean = s.mean()\n",
    "\n",
    "# Calculate the mean of values below the overall mean\n",
    "lower_mean = s.loc[s < overall_mean].mean()\n",
    "\n",
    "# Calculate the mean of values above the overall mean\n",
    "upper_mean = s.loc[s > overall_mean].mean()\n",
    "\n",
    "# Calculate the average of the lower and upper means\n",
    "average_of_means = (lower_mean + upper_mean) / 2\n",
    "\n",
    "# Print the average of the means and the overall mean\n",
    "print(f'Average of lower and upper means: {average_of_means}')\n",
    "print(f'Overall mean: {overall_mean}')\n",
    "\n",
    "# Note: The average of the lower and upper means may be close to the overall mean,\n",
    "# but they may not be exactly the same due to floating point arithmetic. Ideally,\n",
    "# they should be the same since the distribution is perfectly symmetrical.\n"
   ]
  },
  {
   "cell_type": "markdown",
   "metadata": {},
   "source": [
    "3) What is the mean of the numbers beyond 3 standard deviations?"
   ]
  },
  {
   "cell_type": "code",
   "execution_count": 23,
   "metadata": {},
   "outputs": [
    {
     "name": "stdout",
     "output_type": "stream",
     "text": [
      "Mean of values outside three standard deviations: -23.52583375799195\n"
     ]
    }
   ],
   "source": [
    "# Set the random seed for reproducibility\n",
    "np.random.seed(1984)\n",
    "\n",
    "# Calculate the mean and standard deviation of the series\n",
    "mean = s.mean()\n",
    "std = s.std()\n",
    "\n",
    "# Calculate the mean of values that are outside three standard deviations from the mean\n",
    "# Correcting the condition to check for values greater than or less than the mean ± 3*std\n",
    "outlier_mean = s.loc[(s > mean + 3 * std) | (s < mean - 3 * std)].mean()\n",
    "\n",
    "# Print the calculated mean of outliers\n",
    "print(f'Mean of values outside three standard deviations: {outlier_mean}')"
   ]
  },
  {
   "cell_type": "markdown",
   "metadata": {},
   "source": [
    "1.6 Exercise 5: Monday temperatures\n",
    "\n",
    "In this exercise, I want you to create a series of 28 temperature readings in Celsius, representing four seven-day weeks, randomly selected from a normal distribution with a mean of 20 and a standard deviation of 5, rounded to the nearest integer. (If you’re in a country that measures temperature in Fahrenheit, then just pretend you’re looking at the weather in exotic foreign location, rather than where you live.) The index should start with Sun, continue through Sat, and then repeat Sun through Sat until each temperature has a value.\n",
    "\n",
    "The question is: What was the mean temperature on Mondays during this period?"
   ]
  },
  {
   "cell_type": "code",
   "execution_count": 24,
   "metadata": {},
   "outputs": [
    {
     "name": "stdout",
     "output_type": "stream",
     "text": [
      "First few entries of the Series:\n",
      "Sun    20\n",
      "Mon    17\n",
      "Tue    24\n",
      "Wed    17\n",
      "Thu    25\n",
      "dtype: int8\n",
      "Mean value for 'Mon': 20.75\n"
     ]
    }
   ],
   "source": [
    "# Set the random seed for reproducibility\n",
    "np.random.seed(1984)\n",
    "\n",
    "# Create a list of days of the week, repeated for 4 weeks\n",
    "days_of_week = 'Sun Mon Tue Wed Thu Fri Sat'.split()\n",
    "index = days_of_week * 4\n",
    "\n",
    "# Generate a Series of normally distributed random numbers\n",
    "# Mean = 20, Standard Deviation = 5, Number of samples = 28\n",
    "random_values = np.random.normal(loc=20, scale=5, size=28).round()\n",
    "\n",
    "# Create a pandas Series with the generated random values and specified index\n",
    "# using int8 to cast the rounded float values to integer \n",
    "ser = pd.Series(random_values, index=index, dtype='int8')\n",
    "\n",
    "# Display the first few entries of the Series\n",
    "print(\"First few entries of the Series:\")\n",
    "print(ser.head())\n",
    "\n",
    "# Calculate the mean of the values corresponding to 'Mon'\n",
    "mean_monday_value = ser.loc['Mon'].mean()\n",
    "\n",
    "# Display the mean value for 'Mon'\n",
    "print(f\"Mean value for 'Mon': {mean_monday_value}\")"
   ]
  },
  {
   "cell_type": "markdown",
   "metadata": {},
   "source": [
    "1.6.3 Beyond the exercise\n",
    "1) What was the average temperature on weekends (i.e., Saturdays and Sundays)? "
   ]
  },
  {
   "cell_type": "code",
   "execution_count": 25,
   "metadata": {},
   "outputs": [
    {
     "name": "stdout",
     "output_type": "stream",
     "text": [
      "Average temperature for the weekend (Sat & Sun): 21.25\n"
     ]
    }
   ],
   "source": [
    "# Calculate the average temperature for the weekend (Saturday and Sunday)\n",
    "avg_temp_weekend = ser.loc[['Sat', 'Sun']].mean()\n",
    "\n",
    "# Display the average temperature for the weekend\n",
    "print(f\"Average temperature for the weekend (Sat & Sun): {avg_temp_weekend}\")"
   ]
  },
  {
   "cell_type": "markdown",
   "metadata": {},
   "source": [
    "2) How many times will the change in temperature from the previous day be greater than 2 degrees? "
   ]
  },
  {
   "cell_type": "code",
   "execution_count": 26,
   "metadata": {},
   "outputs": [
    {
     "name": "stdout",
     "output_type": "stream",
     "text": [
      "Number of instances where the temperature difference exceeds 2 degrees: 11\n"
     ]
    }
   ],
   "source": [
    "# Calculate the difference in temperature between consecutive days\n",
    "# .dropna() removes any resulting NaN values that occur due to the shift operation (the first entry will have no previous day to compare to).\n",
    "diff = (ser - ser.shift(1)).dropna()\n",
    "\n",
    "# Count the number of instances where the difference exceeds 2 degrees\n",
    "count_exceeding_diff = (diff > 2).sum()\n",
    "\n",
    "# Display the count of instances with a difference greater than 2 degrees\n",
    "print(f\"Number of instances where the temperature difference exceeds 2 degrees: {count_exceeding_diff}\")\n"
   ]
  },
  {
   "cell_type": "markdown",
   "metadata": {},
   "source": [
    "\n",
    "3) What are the two most common temperatures in our data set, and how often does each appear?"
   ]
  },
  {
   "cell_type": "code",
   "execution_count": 27,
   "metadata": {},
   "outputs": [
    {
     "name": "stdout",
     "output_type": "stream",
     "text": [
      "The two most common temperature values are: [17 24]\n"
     ]
    }
   ],
   "source": [
    "# Count the occurrences of each temperature value in the Series\n",
    "value_counts = ser.value_counts()\n",
    "\n",
    "# Get the two most common temperature values\n",
    "top_two_values = value_counts.nlargest(2).index.to_numpy()\n",
    "\n",
    "# Display the two most common temperature values\n",
    "print(f\"The two most common temperature values are: {top_two_values}\")"
   ]
  },
  {
   "cell_type": "markdown",
   "metadata": {},
   "source": [
    "1.7 Exercise 6: Passenger frequency\n",
    "\n",
    "The data we’ll look at is in the file taxi-passenger-count.csv, available along with the other data files used in this course. The data comes from 2015 data I retrieved from New York City’s open data site, from which you can get enormous amounts of information about taxi rides in New York city over the last few years. This file shows the number of passengers in each of 100,000 rides.\n",
    "\n",
    "Your task in this exercise is to show what percentage of taxi rides had only 1 passenger, vs. the (theoretical) maximum of 6 passengers."
   ]
  },
  {
   "cell_type": "code",
   "execution_count": 28,
   "metadata": {},
   "outputs": [
    {
     "name": "stdout",
     "output_type": "stream",
     "text": [
      "First few entries of the Series:\n",
      "0    1\n",
      "1    1\n",
      "2    1\n",
      "3    1\n",
      "4    1\n",
      "Name: 0, dtype: int64\n",
      "Percentage of rides with one passenger: 0.721\n",
      "Percentage of rides with six passengers: 0.037\n"
     ]
    }
   ],
   "source": [
    "# Read the CSV file containing taxi passenger counts\n",
    "# The header is set to None since the file does not contain a header row\n",
    "ser = pd.read_csv('data/taxi-passenger-count.csv', header=None).squeeze()\n",
    "\n",
    "# Display the first few entries of the Series\n",
    "print(\"First few entries of the Series:\")\n",
    "print(ser.head())\n",
    "\n",
    "# Calculate the percentage of rides with exactly one passenger\n",
    "perc_one_passenger = (ser == 1).mean().round(3)\n",
    "\n",
    "# Calculate the percentage of rides with exactly six passengers\n",
    "perc_six_passenger = (ser == 6).mean().round(3)\n",
    "\n",
    "# Display the calculated percentages\n",
    "print(f\"Percentage of rides with one passenger: {perc_one_passenger}\")\n",
    "print(f\"Percentage of rides with six passengers: {perc_six_passenger}\")\n"
   ]
  },
  {
   "cell_type": "markdown",
   "metadata": {},
   "source": [
    "1.7.3 Beyond the exercise Let’s analyze our taxi passenger data in a few more ways:\n",
    "\n",
    "1) What are the 25%, 50% (median), and 75% quantiles for this data set?"
   ]
  },
  {
   "cell_type": "code",
   "execution_count": 29,
   "metadata": {},
   "outputs": [
    {
     "name": "stdout",
     "output_type": "stream",
     "text": [
      "Quartiles:\n",
      "0.25    1.0\n",
      "0.50    1.0\n",
      "0.75    2.0\n",
      "Name: 0, dtype: float64\n"
     ]
    }
   ],
   "source": [
    "# Calculate the 25th, 50th, and 75th percentiles (quartiles)\n",
    "quartiles = ser.quantile([0.25, 0.5, 0.75])\n",
    "\n",
    "# Display the calculated quartiles\n",
    "print(\"Quartiles:\")\n",
    "print(quartiles)\n"
   ]
  },
  {
   "cell_type": "markdown",
   "metadata": {},
   "source": [
    "2) Can you guess the results before you execute the code? "
   ]
  },
  {
   "cell_type": "code",
   "execution_count": 30,
   "metadata": {},
   "outputs": [],
   "source": [
    "# If we check the previous question we can see that 72% of the data \n",
    "# consists of only 1 passenger. So we can guess the answer"
   ]
  },
  {
   "cell_type": "markdown",
   "metadata": {},
   "source": [
    "3) What proportion of taxi rides are for 3, 4, 5, or 6 passengers? "
   ]
  },
  {
   "cell_type": "code",
   "execution_count": 31,
   "metadata": {},
   "outputs": [
    {
     "name": "stdout",
     "output_type": "stream",
     "text": [
      "0\n",
      "3    0.040604\n",
      "4    0.018202\n",
      "5    0.052005\n",
      "6    0.036904\n",
      "Name: proportion, dtype: float64\n"
     ]
    }
   ],
   "source": [
    "# Calculate the normalized value(proportions) counts of the Series\n",
    "normalized_counts = ser.value_counts(normalize=True)\n",
    "\n",
    "# Select specific indices (3, 4, 5, 6) from the normalized counts\n",
    "selected_counts = normalized_counts.loc[[3, 4, 5, 6]]\n",
    "\n",
    "# Display the selected normalized counts\n",
    "print(selected_counts)\n"
   ]
  },
  {
   "cell_type": "markdown",
   "metadata": {},
   "source": [
    "4) Consider that you’re in charge of vehicle licensing for New York taxis. Given these numbers, would more people benefit from smaller taxis that can take only one or two passengers, or larger taxis that can take five or six passengers?"
   ]
  },
  {
   "cell_type": "code",
   "execution_count": 32,
   "metadata": {},
   "outputs": [],
   "source": [
    "# Smaller Taxis would be more beneficial because most of the Taxis carry \n",
    "# only one or two passengers."
   ]
  },
  {
   "cell_type": "markdown",
   "metadata": {},
   "source": [
    "1.8 Exercise 7: Long, medium, and short taxi rides\n",
    "\n",
    "show the number of rides in each of three categories:\n",
    "short, < = 2 miles\n",
    "medium, > 2 miles, but < = 10 miles long, > 10 miles"
   ]
  },
  {
   "cell_type": "code",
   "execution_count": 33,
   "metadata": {},
   "outputs": [
    {
     "name": "stdout",
     "output_type": "stream",
     "text": [
      "0    1.63\n",
      "1    0.46\n",
      "2    0.87\n",
      "3    2.13\n",
      "4    1.40\n",
      "Name: 0, dtype: float64\n",
      "0\n",
      "short     5890\n",
      "medium    3402\n",
      "long       707\n",
      "Name: count, dtype: int64\n"
     ]
    }
   ],
   "source": [
    "# Load the dataset from a CSV file into a pandas Series\n",
    "ser = pd.read_csv('data/taxi-distance.csv', header=None).squeeze()\n",
    "\n",
    "# Display the first few entries of the Series to understand the data\n",
    "print(ser.head())\n",
    "\n",
    "# Define bins for categorizing the distances\n",
    "bins = [-np.inf, 2, 10, np.inf]  # Define the bin edges\n",
    "labels = ['short', 'medium', 'long']  # Define the corresponding labels for the bins\n",
    "\n",
    "# Categorize the distances into 'short', 'medium', and 'long'\n",
    "categories = pd.cut(ser, bins=bins, labels=labels)\n",
    "\n",
    "# Count the occurrences of each category\n",
    "category_counts = categories.value_counts()\n",
    "\n",
    "# Display the counts of each category\n",
    "print(category_counts)\n"
   ]
  },
  {
   "cell_type": "markdown",
   "metadata": {},
   "source": [
    "1.8.3 Beyond the exercise\n",
    "\n",
    "1) Compare the mean and median trip distances. What does that tell you about the distribution of our data?"
   ]
  },
  {
   "cell_type": "code",
   "execution_count": 34,
   "metadata": {},
   "outputs": [
    {
     "name": "stdout",
     "output_type": "stream",
     "text": [
      "Mean: 3.1585108510851083, Median: 1.7\n",
      "The mean is greater than the median, indicating the presence of outliers.\n",
      "This suggests a right-skewed distribution.\n"
     ]
    }
   ],
   "source": [
    "# Calculate descriptive statistics for the Series\n",
    "description = ser.describe()\n",
    "\n",
    "# Extract the mean and median (50th percentile) from the descriptive statistics\n",
    "mean_value = description['mean']\n",
    "median_value = description['50%']\n",
    "\n",
    "# Print the mean and median values\n",
    "print(f\"Mean: {mean_value}, Median: {median_value}\")\n",
    "\n",
    "# Interpretation of the results\n",
    "if mean_value > median_value:\n",
    "    print(\"The mean is greater than the median, indicating the presence of outliers.\")\n",
    "    print(\"This suggests a right-skewed distribution.\")\n",
    "else:\n",
    "    print(\"The mean is less than or equal to the median, indicating a more symmetric distribution.\")\n"
   ]
  },
  {
   "cell_type": "markdown",
   "metadata": {},
   "source": [
    "2) How many short, medium, and long trips were there for trips that had only one passenger? Note that data for passenger count and trip length are from the same data set, meaning that the indexes are the same. "
   ]
  },
  {
   "cell_type": "code",
   "execution_count": 35,
   "metadata": {},
   "outputs": [
    {
     "name": "stdout",
     "output_type": "stream",
     "text": [
      "   passengers  distance    trip\n",
      "0           1      1.63   short\n",
      "1           1      0.46   short\n",
      "2           1      0.87   short\n",
      "3           1      2.13  medium\n",
      "4           1      1.40   short\n",
      "trip\n",
      "short     4333\n",
      "medium    2387\n",
      "long       487\n",
      "Name: count, dtype: int64\n"
     ]
    }
   ],
   "source": [
    "# Load the datasets from CSV files into pandas Series\n",
    "s1 = pd.read_csv('data/taxi-passenger-count.csv', header=None).squeeze()  # Passenger count\n",
    "s2 = pd.read_csv('data/taxi-distance.csv', header=None).squeeze()  # Trip distance\n",
    "\n",
    "# Create a DataFrame combining passenger counts, distances, and trip categories\n",
    "df = pd.DataFrame({'passengers': s1, 'distance': s2, 'trip': categories})\n",
    "\n",
    "# Display the first few entries of the DataFrame\n",
    "print(df.head())\n",
    "\n",
    "# Count the occurrences of trip categories for trips with exactly 1 passenger\n",
    "trip_counts_for_one_passenger = df[df.passengers == 1].trip.value_counts()\n",
    "\n",
    "# Display the counts of trip categories for trips with 1 passenger\n",
    "print(trip_counts_for_one_passenger)\n"
   ]
  },
  {
   "cell_type": "markdown",
   "metadata": {},
   "source": [
    "3) What happens if we don’t pass explicit intervals, and instead ask pd.cut to just create 3 bins, with bins=3?"
   ]
  },
  {
   "cell_type": "code",
   "execution_count": 36,
   "metadata": {},
   "outputs": [
    {
     "name": "stdout",
     "output_type": "stream",
     "text": [
      "0\n",
      "(-0.006, 2.0]    8522\n",
      "(4.0, 6.0]        889\n",
      "(2.0, 4.0]        588\n",
      "Name: count, dtype: int64\n"
     ]
    }
   ],
   "source": [
    "# Create three equal-length bins for the passenger counts\n",
    "# The bins will automatically be determined based on the range of the data\n",
    "binned_passengers = pd.cut(s1, bins=3)\n",
    "\n",
    "# Count the occurrences in each bin\n",
    "bin_counts = binned_passengers.value_counts()\n",
    "\n",
    "# Display the counts of each bin\n",
    "print(bin_counts)\n"
   ]
  }
 ],
 "metadata": {
  "kernelspec": {
   "display_name": "Python 3",
   "language": "python",
   "name": "python3"
  },
  "language_info": {
   "codemirror_mode": {
    "name": "ipython",
    "version": 3
   },
   "file_extension": ".py",
   "mimetype": "text/x-python",
   "name": "python",
   "nbconvert_exporter": "python",
   "pygments_lexer": "ipython3",
   "version": "3.10.7"
  }
 },
 "nbformat": 4,
 "nbformat_minor": 2
}
